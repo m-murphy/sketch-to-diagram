{
  "nbformat": 4,
  "nbformat_minor": 0,
  "metadata": {
    "colab": {
      "name": "generate_model.ipynb",
      "version": "0.3.2",
      "provenance": [],
      "collapsed_sections": [],
      "toc_visible": true,
      "include_colab_link": true
    },
    "kernelspec": {
      "name": "python3",
      "display_name": "Python 3"
    },
    "accelerator": "GPU"
  },
  "cells": [
    {
      "cell_type": "markdown",
      "metadata": {
        "id": "view-in-github",
        "colab_type": "text"
      },
      "source": [
        "[View in Colaboratory](https://colab.research.google.com/github/m-murphy/sketch-to-diagram/blob/master/generate_model.ipynb)"
      ]
    },
    {
      "metadata": {
        "id": "fDwtKlSwmUUz",
        "colab_type": "code",
        "colab": {
          "base_uri": "https://localhost:8080/",
          "height": 34
        },
        "outputId": "ac08d45a-dd37-4297-fd7e-2a1b3848b6ec"
      },
      "cell_type": "code",
      "source": [
        "import os\n",
        "import glob\n",
        "import numpy as np\n",
        "from tensorflow.keras import layers\n",
        "from tensorflow import keras\n",
        "import tensorflow as tf\n",
        "import urllib.request\n",
        "\n",
        "!rm -r data\n",
        "!mkdir data\n",
        "\n",
        "classes = ['circle', 'square', 'line', 'star', 'triangle', 'hexagon']"
      ],
      "execution_count": 1,
      "outputs": [
        {
          "output_type": "stream",
          "text": [
            "rm: cannot remove 'data': No such file or directory\r\n"
          ],
          "name": "stdout"
        }
      ]
    },
    {
      "metadata": {
        "id": "mlGjGp6ynuc7",
        "colab_type": "code",
        "colab": {}
      },
      "cell_type": "code",
      "source": [
        "\n",
        "def download():\n",
        "  base = 'https://storage.googleapis.com/quickdraw_dataset/full/numpy_bitmap/'\n",
        "  for c in classes:\n",
        "    url = f\"{base}{c}.npy\"\n",
        "    print(url)\n",
        "    urllib.request.urlretrieve(url, f'data/{c}.npy')\n",
        "    \n",
        "def load_data(root, vfold_ratio=0.2, max_items_per_class=1000000):\n",
        "  all_files = glob.glob(os.path.join(root, \"*.npy\"))\n",
        "  \n",
        "  x = np.empty([0, 784])\n",
        "  y = np.empty([0])\n",
        "  class_names = []\n",
        "  \n",
        "  for idx, file in enumerate(all_files):\n",
        "    data = np.load(file)\n",
        "    data = data[0: max_items_per_class, :]\n",
        "    labels = np.full(data.shape[0], idx)\n",
        "    \n",
        "    x = np.concatenate((x, data), axis=0)\n",
        "    y = np.append(y, labels)\n",
        "    \n",
        "    class_name, ext = os.path.splitext(os.path.basename(file))\n",
        "    class_names.append(class_name)\n",
        "    \n",
        "  data = None\n",
        "  labels = None\n",
        "  \n",
        "  permutation = np.random.permutation(y.shape[0])\n",
        "  x = x[permutation, :]\n",
        "  y = y[permutation]\n",
        "  \n",
        "  vfold_size = int(x.shape[0]/100 * (vfold_ratio * 100))\n",
        "  \n",
        "  x_test = x[0 : vfold_size, :]\n",
        "  y_test = y[0 : vfold_size]\n",
        "  \n",
        "  x_train = x[vfold_size : x.shape[0], :]\n",
        "  y_train = y[vfold_size : y.shape[0]]\n",
        "  return x_train, y_train, x_test, y_test, class_names\n"
      ],
      "execution_count": 0,
      "outputs": []
    },
    {
      "metadata": {
        "id": "ZyCdGwv0nlwO",
        "colab_type": "code",
        "colab": {
          "base_uri": "https://localhost:8080/",
          "height": 119
        },
        "outputId": "12828c34-9d71-4745-b7f6-196bfd148fc5"
      },
      "cell_type": "code",
      "source": [
        "download()"
      ],
      "execution_count": 3,
      "outputs": [
        {
          "output_type": "stream",
          "text": [
            "https://storage.googleapis.com/quickdraw_dataset/full/numpy_bitmap/circle.npy\n",
            "https://storage.googleapis.com/quickdraw_dataset/full/numpy_bitmap/square.npy\n",
            "https://storage.googleapis.com/quickdraw_dataset/full/numpy_bitmap/line.npy\n",
            "https://storage.googleapis.com/quickdraw_dataset/full/numpy_bitmap/star.npy\n",
            "https://storage.googleapis.com/quickdraw_dataset/full/numpy_bitmap/triangle.npy\n",
            "https://storage.googleapis.com/quickdraw_dataset/full/numpy_bitmap/hexagon.npy\n"
          ],
          "name": "stdout"
        }
      ]
    },
    {
      "metadata": {
        "id": "6IlPxWInrKh4",
        "colab_type": "code",
        "colab": {}
      },
      "cell_type": "code",
      "source": [
        "x_train, y_train, x_test, y_test, class_names = load_data('data')\n",
        "num_classes = len(class_names)\n",
        "image_size = 28"
      ],
      "execution_count": 0,
      "outputs": []
    },
    {
      "metadata": {
        "id": "d4x7DeWcrji8",
        "colab_type": "code",
        "colab": {
          "base_uri": "https://localhost:8080/",
          "height": 282
        },
        "outputId": "712346b5-3e25-44d8-ba5b-6557260133f1"
      },
      "cell_type": "code",
      "source": [
        "import matplotlib.pyplot as plt\n",
        "from random import randint\n",
        "%matplotlib inline\n",
        "\n",
        "idx = randint(0, len(x_train))\n",
        "plt.imshow(x_train[idx].reshape(28, 28))\n",
        "print(class_names[int(y_train[idx].item())])"
      ],
      "execution_count": 5,
      "outputs": [
        {
          "output_type": "stream",
          "text": [
            "triangle\n"
          ],
          "name": "stdout"
        },
        {
          "output_type": "display_data",
          "data": {
            "image/png": "[encoded data removed]",
            "text/plain": [
              "<matplotlib.figure.Figure at 0x7fcb1ab054e0>"
            ]
          },
          "metadata": {
            "tags": []
          }
        }
      ]
    },
    {
      "metadata": {
        "id": "xc2zoLfxsoIS",
        "colab_type": "code",
        "colab": {}
      },
      "cell_type": "code",
      "source": [
        "x_train = x_train.reshape(x_train.shape[0], image_size, image_size, 1).astype('float32')\n",
        "x_test = x_test.reshape(x_test.shape[0], image_size, image_size, 1).astype('float32')\n",
        "\n",
        "x_train /= 255.0\n",
        "x_test /= 255.0\n",
        "\n",
        "# Convert class vectors to class matrices\n",
        "y_train = keras.utils.to_categorical(y_train, num_classes)\n",
        "y_test = keras.utils.to_categorical(y_test, num_classes)"
      ],
      "execution_count": 0,
      "outputs": []
    },
    {
      "metadata": {
        "id": "DJDT7FjfsrVc",
        "colab_type": "code",
        "colab": {
          "base_uri": "https://localhost:8080/",
          "height": 612
        },
        "outputId": "6bed32a7-3a36-4fee-ee45-c8da73ddc742"
      },
      "cell_type": "code",
      "source": [
        "model = keras.Sequential()\n",
        "model.add(layers.Convolution2D(32, (3, 3),\n",
        "                        padding='same',\n",
        "                        input_shape=x_train.shape[1:], activation='relu'))\n",
        "model.add(layers.MaxPooling2D(pool_size=(2, 2)))\n",
        "model.add(layers.Conv2D(64, (3, 3), activation='relu'))\n",
        "# model.add(layers.MaxPooling2D(pool_size=(2, 2)))\n",
        "model.add(layers.Dropout(0.25))\n",
        "# model.add(layers.Flatten())\n",
        "# model.add(layers.Dense(128, activation='relu'))\n",
        "# model.add(layers.Dropout(0.5))\n",
        "# model.add(layers.Dense(num_classes, activation='softmax'))\n",
        "model.add(layers.Convolution2D(64, (3, 3), padding='same', activation= 'relu'))\n",
        "model.add(layers.MaxPooling2D(pool_size=(2, 2)))\n",
        "model.add(layers.Convolution2D(128, (3, 3), padding='same', activation= 'relu'))\n",
        "model.add(layers.MaxPooling2D(pool_size =(2,2)))\n",
        "model.add(layers.Dropout(0.25))\n",
        "model.add(layers.Flatten())\n",
        "model.add(layers.Dense(128, activation='relu'))\n",
        "model.add(layers.Dropout(0.5))\n",
        "model.add(layers.Dense(num_classes, activation='softmax')) \n",
        "# Train model\n",
        "adam = keras.optimizers.Adam()\n",
        "model.compile(loss='categorical_crossentropy',\n",
        "              optimizer=adam,\n",
        "              metrics=['accuracy'])\n",
        "print(model.summary())\n",
        "tf.test.gpu_device_name()"
      ],
      "execution_count": 8,
      "outputs": [
        {
          "output_type": "stream",
          "text": [
            "_________________________________________________________________\n",
            "Layer (type)                 Output Shape              Param #   \n",
            "=================================================================\n",
            "conv2d_4 (Conv2D)            (None, 28, 28, 32)        320       \n",
            "_________________________________________________________________\n",
            "max_pooling2d_3 (MaxPooling2 (None, 14, 14, 32)        0         \n",
            "_________________________________________________________________\n",
            "conv2d_5 (Conv2D)            (None, 12, 12, 64)        18496     \n",
            "_________________________________________________________________\n",
            "dropout_3 (Dropout)          (None, 12, 12, 64)        0         \n",
            "_________________________________________________________________\n",
            "conv2d_6 (Conv2D)            (None, 12, 12, 64)        36928     \n",
            "_________________________________________________________________\n",
            "max_pooling2d_4 (MaxPooling2 (None, 6, 6, 64)          0         \n",
            "_________________________________________________________________\n",
            "conv2d_7 (Conv2D)            (None, 6, 6, 128)         73856     \n",
            "_________________________________________________________________\n",
            "max_pooling2d_5 (MaxPooling2 (None, 3, 3, 128)         0         \n",
            "_________________________________________________________________\n",
            "dropout_4 (Dropout)          (None, 3, 3, 128)         0         \n",
            "_________________________________________________________________\n",
            "flatten_1 (Flatten)          (None, 1152)              0         \n",
            "_________________________________________________________________\n",
            "dense_2 (Dense)              (None, 128)               147584    \n",
            "_________________________________________________________________\n",
            "dropout_5 (Dropout)          (None, 128)               0         \n",
            "_________________________________________________________________\n",
            "dense_3 (Dense)              (None, 6)                 774       \n",
            "=================================================================\n",
            "Total params: 277,958\n",
            "Trainable params: 277,958\n",
            "Non-trainable params: 0\n",
            "_________________________________________________________________\n",
            "None\n"
          ],
          "name": "stdout"
        },
        {
          "output_type": "execute_result",
          "data": {
            "text/plain": [
              "'/device:GPU:0'"
            ]
          },
          "metadata": {
            "tags": []
          },
          "execution_count": 8
        }
      ]
    },
    {
      "metadata": {
        "id": "g4IbduuMsyMT",
        "colab_type": "code",
        "colab": {
          "base_uri": "https://localhost:8080/",
          "height": 391
        },
        "outputId": "3e222061-a870-4064-8e7c-894f30a9c481"
      },
      "cell_type": "code",
      "source": [
        "model.fit(x = x_train, y = y_train, validation_split=0.1, batch_size = 128, verbose=2, epochs=10)"
      ],
      "execution_count": 9,
      "outputs": [
        {
          "output_type": "stream",
          "text": [
            "Train on 572252 samples, validate on 63584 samples\n",
            "Epoch 1/10\n",
            " - 80s - loss: 0.1574 - acc: 0.9512 - val_loss: 0.1095 - val_acc: 0.9676\n",
            "Epoch 2/10\n",
            " - 78s - loss: 0.1098 - acc: 0.9677 - val_loss: 0.0945 - val_acc: 0.9715\n",
            "Epoch 3/10\n",
            " - 78s - loss: 0.1025 - acc: 0.9699 - val_loss: 0.0902 - val_acc: 0.9726\n",
            "Epoch 4/10\n",
            " - 78s - loss: 0.0980 - acc: 0.9713 - val_loss: 0.0884 - val_acc: 0.9737\n",
            "Epoch 5/10\n",
            " - 78s - loss: 0.0953 - acc: 0.9718 - val_loss: 0.0886 - val_acc: 0.9724\n",
            "Epoch 6/10\n",
            " - 78s - loss: 0.0930 - acc: 0.9725 - val_loss: 0.0883 - val_acc: 0.9738\n",
            "Epoch 7/10\n",
            " - 78s - loss: 0.0916 - acc: 0.9729 - val_loss: 0.0887 - val_acc: 0.9735\n",
            "Epoch 8/10\n",
            " - 78s - loss: 0.0897 - acc: 0.9735 - val_loss: 0.0862 - val_acc: 0.9744\n",
            "Epoch 9/10\n",
            " - 78s - loss: 0.0888 - acc: 0.9737 - val_loss: 0.0877 - val_acc: 0.9742\n",
            "Epoch 10/10\n",
            " - 78s - loss: 0.0874 - acc: 0.9742 - val_loss: 0.0895 - val_acc: 0.9731\n"
          ],
          "name": "stdout"
        },
        {
          "output_type": "execute_result",
          "data": {
            "text/plain": [
              "<tensorflow.python.keras.callbacks.History at 0x7fcac57af588>"
            ]
          },
          "metadata": {
            "tags": []
          },
          "execution_count": 9
        }
      ]
    },
    {
      "metadata": {
        "id": "7kb6TFxutizt",
        "colab_type": "code",
        "colab": {
          "base_uri": "https://localhost:8080/",
          "height": 34
        },
        "outputId": "4a2ec4d4-e3ae-49b6-cd75-7a613f7bc184"
      },
      "cell_type": "code",
      "source": [
        "score = model.evaluate(x_test, y_test, verbose=0)\n",
        "print('Test accuarcy: {:0.2f}%'.format(score[1] * 100))\n"
      ],
      "execution_count": 10,
      "outputs": [
        {
          "output_type": "stream",
          "text": [
            "Test accuarcy: 97.32%\n"
          ],
          "name": "stdout"
        }
      ]
    },
    {
      "metadata": {
        "id": "--UCcr-_t_Az",
        "colab_type": "code",
        "colab": {
          "base_uri": "https://localhost:8080/",
          "height": 299
        },
        "outputId": "516ddba8-d899-4787-b259-a04ed552eeb8"
      },
      "cell_type": "code",
      "source": [
        "import matplotlib.pyplot as plt\n",
        "from random import randint\n",
        "%matplotlib inline  \n",
        "idx = randint(0, len(x_test))\n",
        "img = x_test[idx]\n",
        "plt.imshow(img.squeeze()) \n",
        "pred = model.predict(np.expand_dims(img, axis=0))[0]\n",
        "print((-pred).argsort()[:6])\n",
        "ind = (-pred).argsort()[:6]\n",
        "latex = [class_names[x] for x in ind]\n",
        "print(latex)"
      ],
      "execution_count": 22,
      "outputs": [
        {
          "output_type": "stream",
          "text": [
            "[4 2 0 1 3 5]\n",
            "['square', 'circle', 'triangle', 'line', 'hexagon', 'star']\n"
          ],
          "name": "stdout"
        },
        {
          "output_type": "display_data",
          "data": {
            "image/png": "[encoded data removed]",
            "text/plain": [
              "<matplotlib.figure.Figure at 0x7fcabef8b978>"
            ]
          },
          "metadata": {
            "tags": []
          }
        }
      ]
    },
    {
      "metadata": {
        "id": "rSK595ovuF1N",
        "colab_type": "code",
        "colab": {
          "base_uri": "https://localhost:8080/",
          "height": 34
        },
        "outputId": "1802ecda-e035-4d58-d409-a7c0caf3611d"
      },
      "cell_type": "code",
      "source": [
        "import json\n",
        "\n",
        "with open('class_names.json', 'w') as file_handler:\n",
        "  class_name_dict = dict(enumerate(class_names))\n",
        "  print(class_name_dict)\n",
        "  file_handler.write(json.dumps(class_name_dict))\n",
        "#     for item in class_names:\n",
        "#         file_handler.write(\"{}\\n\".format(item))"
      ],
      "execution_count": 23,
      "outputs": [
        {
          "output_type": "stream",
          "text": [
            "{0: 'triangle', 1: 'line', 2: 'circle', 3: 'hexagon', 4: 'square', 5: 'star'}\n"
          ],
          "name": "stdout"
        }
      ]
    },
    {
      "metadata": {
        "id": "gw9yZV1luI3N",
        "colab_type": "code",
        "colab": {
          "base_uri": "https://localhost:8080/",
          "height": 578
        },
        "outputId": "dd669e5d-2a59-46dc-b63a-418328c6c9bd"
      },
      "cell_type": "code",
      "source": [
        "!pip install tensorflowjs"
      ],
      "execution_count": 24,
      "outputs": [
        {
          "output_type": "stream",
          "text": [
            "Collecting tensorflowjs\n",
            "  Downloading https://files.pythonhosted.org/packages/be/69/6a866606cf0160621a8deaedce93cce8fc69dd022259b4ea62244d805f34/tensorflowjs-0.5.6-py3-none-any.whl\n",
            "Collecting tensorflow-hub==0.1.0 (from tensorflowjs)\n",
            "\u001b[?25l  Downloading https://files.pythonhosted.org/packages/aa/8e/ab0d5cf0f2dc2ed1c645bf1cb4acc7beeb0be5a51ebb0c91cbb23eb1fe10/tensorflow_hub-0.1.0-py2.py3-none-any.whl (53kB)\n",
            "\u001b[K    100% |████████████████████████████████| 61kB 8.7MB/s \n",
            "\u001b[?25hRequirement already satisfied: h5py==2.8.0 in /usr/local/lib/python3.6/dist-packages (from tensorflowjs) (2.8.0)\n",
            "Requirement already satisfied: six==1.11.0 in /usr/local/lib/python3.6/dist-packages (from tensorflowjs) (1.11.0)\n",
            "Collecting numpy==1.14.1 (from tensorflowjs)\n",
            "\u001b[?25l  Downloading https://files.pythonhosted.org/packages/de/7d/348c5d8d44443656e76285aa97b828b6dbd9c10e5b9c0f7f98eff0ff70e4/numpy-1.14.1-cp36-cp36m-manylinux1_x86_64.whl (12.2MB)\n",
            "\u001b[K    100% |████████████████████████████████| 12.2MB 4.2MB/s \n",
            "\u001b[?25hRequirement already satisfied: tensorflow==1.9.0 in /usr/local/lib/python3.6/dist-packages (from tensorflowjs) (1.9.0)\n",
            "Requirement already satisfied: keras==2.1.6 in /usr/local/lib/python3.6/dist-packages (from tensorflowjs) (2.1.6)\n",
            "Requirement already satisfied: protobuf>=3.4.0 in /usr/local/lib/python3.6/dist-packages (from tensorflow-hub==0.1.0->tensorflowjs) (3.6.0)\n",
            "Requirement already satisfied: setuptools<=39.1.0 in /usr/local/lib/python3.6/dist-packages (from tensorflow==1.9.0->tensorflowjs) (39.1.0)\n",
            "Requirement already satisfied: gast>=0.2.0 in /usr/local/lib/python3.6/dist-packages (from tensorflow==1.9.0->tensorflowjs) (0.2.0)\n",
            "Requirement already satisfied: tensorboard<1.10.0,>=1.9.0 in /usr/local/lib/python3.6/dist-packages (from tensorflow==1.9.0->tensorflowjs) (1.9.0)\n",
            "Requirement already satisfied: grpcio>=1.8.6 in /usr/local/lib/python3.6/dist-packages (from tensorflow==1.9.0->tensorflowjs) (1.14.0)\n",
            "Requirement already satisfied: astor>=0.6.0 in /usr/local/lib/python3.6/dist-packages (from tensorflow==1.9.0->tensorflowjs) (0.7.1)\n",
            "Requirement already satisfied: wheel>=0.26 in /usr/local/lib/python3.6/dist-packages (from tensorflow==1.9.0->tensorflowjs) (0.31.1)\n",
            "Requirement already satisfied: absl-py>=0.1.6 in /usr/local/lib/python3.6/dist-packages (from tensorflow==1.9.0->tensorflowjs) (0.3.0)\n",
            "Requirement already satisfied: termcolor>=1.1.0 in /usr/local/lib/python3.6/dist-packages (from tensorflow==1.9.0->tensorflowjs) (1.1.0)\n",
            "Requirement already satisfied: scipy>=0.14 in /usr/local/lib/python3.6/dist-packages (from keras==2.1.6->tensorflowjs) (0.19.1)\n",
            "Requirement already satisfied: pyyaml in /usr/local/lib/python3.6/dist-packages (from keras==2.1.6->tensorflowjs) (3.13)\n",
            "Requirement already satisfied: werkzeug>=0.11.10 in /usr/local/lib/python3.6/dist-packages (from tensorboard<1.10.0,>=1.9.0->tensorflow==1.9.0->tensorflowjs) (0.14.1)\n",
            "Requirement already satisfied: markdown>=2.6.8 in /usr/local/lib/python3.6/dist-packages (from tensorboard<1.10.0,>=1.9.0->tensorflow==1.9.0->tensorflowjs) (2.6.11)\n",
            "Installing collected packages: numpy, tensorflow-hub, tensorflowjs\n",
            "  Found existing installation: numpy 1.14.5\n",
            "    Uninstalling numpy-1.14.5:\n",
            "      Successfully uninstalled numpy-1.14.5\n",
            "  Found existing installation: tensorflow-hub 0.1.1\n",
            "    Uninstalling tensorflow-hub-0.1.1:\n",
            "      Successfully uninstalled tensorflow-hub-0.1.1\n",
            "Successfully installed numpy-1.14.1 tensorflow-hub-0.1.0 tensorflowjs-0.5.6\n"
          ],
          "name": "stdout"
        }
      ]
    },
    {
      "metadata": {
        "id": "JOXpoKo0uPpk",
        "colab_type": "code",
        "colab": {
          "base_uri": "https://localhost:8080/",
          "height": 221
        },
        "outputId": "345f5e56-393b-4589-eda9-e9a25c35bd86"
      },
      "cell_type": "code",
      "source": [
        "model.save('keras.h5')\n",
        "\n",
        "!rm -r model\n",
        "!mkdir model\n",
        "!tensorflowjs_converter --input_format keras keras.h5 model/\n",
        "\n",
        "!cp class_names.json model/class_names.json\n",
        "!cp keras.h5 model/keras.h5\n",
        "!zip -r model.zip model"
      ],
      "execution_count": 25,
      "outputs": [
        {
          "output_type": "stream",
          "text": [
            "rm: cannot remove 'model': No such file or directory\n",
            "Using TensorFlow backend.\n",
            "  adding: model/ (stored 0%)\n",
            "  adding: model/keras.h5 (deflated 9%)\n",
            "  adding: model/group5-shard1of1 (deflated 7%)\n",
            "  adding: model/class_names.json (deflated 26%)\n",
            "  adding: model/group2-shard1of1 (deflated 7%)\n",
            "  adding: model/group1-shard1of1 (deflated 4%)\n",
            "  adding: model/group6-shard1of1 (deflated 6%)\n",
            "  adding: model/group4-shard1of1 (deflated 7%)\n",
            "  adding: model/model.json (deflated 86%)\n",
            "  adding: model/group3-shard1of1 (deflated 7%)\n"
          ],
          "name": "stdout"
        }
      ]
    },
    {
      "metadata": {
        "id": "mPdH7932uoYh",
        "colab_type": "code",
        "colab": {}
      },
      "cell_type": "code",
      "source": [
        "from google.colab import files\n",
        "files.download('model.zip')"
      ],
      "execution_count": 0,
      "outputs": []
    }
  ]
}