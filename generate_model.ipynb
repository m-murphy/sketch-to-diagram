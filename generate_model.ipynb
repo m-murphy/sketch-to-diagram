{
  "nbformat": 4,
  "nbformat_minor": 0,
  "metadata": {
    "colab": {
      "name": "generate_model.ipynb",
      "version": "0.3.2",
      "provenance": [],
      "collapsed_sections": [],
      "toc_visible": true,
      "include_colab_link": true
    },
    "kernelspec": {
      "name": "python3",
      "display_name": "Python 3"
    },
    "accelerator": "GPU"
  },
  "cells": [
    {
      "cell_type": "markdown",
      "metadata": {
        "id": "view-in-github",
        "colab_type": "text"
      },
      "source": [
        "[View in Colaboratory](https://colab.research.google.com/github/m-murphy/sketch-to-diagram/blob/master/generate_model.ipynb)"
      ]
    },
    {
      "metadata": {
        "id": "fDwtKlSwmUUz",
        "colab_type": "code",
        "colab": {}
      },
      "cell_type": "code",
      "source": [
        "import os\n",
        "import glob\n",
        "import numpy as np\n",
        "from tensorflow.keras import layers\n",
        "from tensorflow import keras\n",
        "import tensorflow as tf\n",
        "import urllib.request\n",
        "\n",
        "!rm -r data\n",
        "!mkdir data\n",
        "\n",
        "classes = ['circle', 'square', 'line', 'star', 'triangle']"
      ],
      "execution_count": 0,
      "outputs": []
    },
    {
      "metadata": {
        "id": "mlGjGp6ynuc7",
        "colab_type": "code",
        "colab": {}
      },
      "cell_type": "code",
      "source": [
        "\n",
        "def download():\n",
        "  base = 'https://storage.googleapis.com/quickdraw_dataset/full/numpy_bitmap/'\n",
        "  for c in classes:\n",
        "    url = f\"{base}{c}.npy\"\n",
        "    print(url)\n",
        "    urllib.request.urlretrieve(url, f'data/{c}.npy')\n",
        "    \n",
        "def load_data(root, vfold_ratio=0.2, max_items_per_class=1000000):\n",
        "  all_files = glob.glob(os.path.join(root, \"*.npy\"))\n",
        "  \n",
        "  x = np.empty([0, 784])\n",
        "  y = np.empty([0])\n",
        "  class_names = []\n",
        "  \n",
        "  for idx, file in enumerate(all_files):\n",
        "    data = np.load(file)\n",
        "    data = data[0: max_items_per_class, :]\n",
        "    labels = np.full(data.shape[0], idx)\n",
        "    \n",
        "    x = np.concatenate((x, data), axis=0)\n",
        "    y = np.append(y, labels)\n",
        "    \n",
        "    class_name, ext = os.path.splitext(os.path.basename(file))\n",
        "    class_names.append(class_name)\n",
        "    \n",
        "  data = None\n",
        "  labels = None\n",
        "  \n",
        "  permutation = np.random.permutation(y.shape[0])\n",
        "  x = x[permutation, :]\n",
        "  y = y[permutation]\n",
        "  \n",
        "  vfold_size = int(x.shape[0]/100 * (vfold_ratio * 100))\n",
        "  \n",
        "  x_test = x[0 : vfold_size, :]\n",
        "  y_test = y[0 : vfold_size]\n",
        "  \n",
        "  x_train = x[vfold_size : x.shape[0], :]\n",
        "  y_train = y[vfold_size : y.shape[0]]\n",
        "  return x_train, y_train, x_test, y_test, class_names\n"
      ],
      "execution_count": 0,
      "outputs": []
    },
    {
      "metadata": {
        "id": "ZyCdGwv0nlwO",
        "colab_type": "code",
        "colab": {
          "base_uri": "https://localhost:8080/",
          "height": 102
        },
        "outputId": "f7b6e8b8-fe99-4807-8797-0801bc28d96d"
      },
      "cell_type": "code",
      "source": [
        "download()"
      ],
      "execution_count": 43,
      "outputs": [
        {
          "output_type": "stream",
          "text": [
            "https://storage.googleapis.com/quickdraw_dataset/full/numpy_bitmap/circle.npy\n",
            "https://storage.googleapis.com/quickdraw_dataset/full/numpy_bitmap/square.npy\n",
            "https://storage.googleapis.com/quickdraw_dataset/full/numpy_bitmap/line.npy\n",
            "https://storage.googleapis.com/quickdraw_dataset/full/numpy_bitmap/star.npy\n",
            "https://storage.googleapis.com/quickdraw_dataset/full/numpy_bitmap/triangle.npy\n"
          ],
          "name": "stdout"
        }
      ]
    },
    {
      "metadata": {
        "id": "6IlPxWInrKh4",
        "colab_type": "code",
        "colab": {}
      },
      "cell_type": "code",
      "source": [
        "x_train, y_train, x_test, y_test, class_names = load_data('data')\n",
        "num_classes = len(class_names)\n",
        "image_size = 28"
      ],
      "execution_count": 0,
      "outputs": []
    },
    {
      "metadata": {
        "id": "d4x7DeWcrji8",
        "colab_type": "code",
        "colab": {
          "base_uri": "https://localhost:8080/",
          "height": 282
        },
        "outputId": "8731f983-21f6-47fc-8f59-348d5e3d6f95"
      },
      "cell_type": "code",
      "source": [
        "import matplotlib.pyplot as plt\n",
        "from random import randint\n",
        "%matplotlib inline\n",
        "\n",
        "idx = randint(0, len(x_train))\n",
        "plt.imshow(x_train[idx].reshape(28, 28))\n",
        "print(class_names[int(y_train[idx].item())])"
      ],
      "execution_count": 45,
      "outputs": [
        {
          "output_type": "stream",
          "text": [
            "line\n"
          ],
          "name": "stdout"
        },
        {
          "output_type": "display_data",
          "data": {
            "image/png": "[encoded data removed]",
            "text/plain": [
              "<matplotlib.figure.Figure at 0x7f0f6a8bfcf8>"
            ]
          },
          "metadata": {
            "tags": []
          }
        }
      ]
    },
    {
      "metadata": {
        "id": "xc2zoLfxsoIS",
        "colab_type": "code",
        "colab": {}
      },
      "cell_type": "code",
      "source": [
        "x_train = x_train.reshape(x_train.shape[0], image_size, image_size, 1).astype('float32')\n",
        "x_test = x_test.reshape(x_test.shape[0], image_size, image_size, 1).astype('float32')\n",
        "\n",
        "x_train /= 255.0\n",
        "x_test /= 255.0\n",
        "\n",
        "# Convert class vectors to class matrices\n",
        "y_train = keras.utils.to_categorical(y_train, num_classes)\n",
        "y_test = keras.utils.to_categorical(y_test, num_classes)"
      ],
      "execution_count": 0,
      "outputs": []
    },
    {
      "metadata": {
        "id": "DJDT7FjfsrVc",
        "colab_type": "code",
        "colab": {
          "base_uri": "https://localhost:8080/",
          "height": 612
        },
        "outputId": "30acf1bc-1508-4c09-c72e-a6ddb43c4c35"
      },
      "cell_type": "code",
      "source": [
        "model = keras.Sequential()\n",
        "model.add(layers.Convolution2D(32, (3, 3),\n",
        "                        padding='same',\n",
        "                        input_shape=x_train.shape[1:], activation='relu'))\n",
        "model.add(layers.MaxPooling2D(pool_size=(2, 2)))\n",
        "model.add(layers.Conv2D(64, (3, 3), activation='relu'))\n",
        "# model.add(layers.MaxPooling2D(pool_size=(2, 2)))\n",
        "model.add(layers.Dropout(0.25))\n",
        "# model.add(layers.Flatten())\n",
        "# model.add(layers.Dense(128, activation='relu'))\n",
        "# model.add(layers.Dropout(0.5))\n",
        "# model.add(layers.Dense(num_classes, activation='softmax'))\n",
        "model.add(layers.Convolution2D(64, (3, 3), padding='same', activation= 'relu'))\n",
        "model.add(layers.MaxPooling2D(pool_size=(2, 2)))\n",
        "model.add(layers.Convolution2D(128, (3, 3), padding='same', activation= 'relu'))\n",
        "model.add(layers.MaxPooling2D(pool_size =(2,2)))\n",
        "model.add(layers.Dropout(0.25))\n",
        "model.add(layers.Flatten())\n",
        "model.add(layers.Dense(128, activation='relu'))\n",
        "model.add(layers.Dropout(0.5))\n",
        "model.add(layers.Dense(num_classes, activation='softmax')) \n",
        "# Train model\n",
        "adam = keras.optimizers.Adam()\n",
        "model.compile(loss='categorical_crossentropy',\n",
        "              optimizer=adam,\n",
        "              metrics=['accuracy'])\n",
        "print(model.summary())\n",
        "tf.test.gpu_device_name()"
      ],
      "execution_count": 47,
      "outputs": [
        {
          "output_type": "stream",
          "text": [
            "_________________________________________________________________\n",
            "Layer (type)                 Output Shape              Param #   \n",
            "=================================================================\n",
            "conv2d_51 (Conv2D)           (None, 28, 28, 32)        320       \n",
            "_________________________________________________________________\n",
            "max_pooling2d_45 (MaxPooling (None, 14, 14, 32)        0         \n",
            "_________________________________________________________________\n",
            "conv2d_52 (Conv2D)           (None, 12, 12, 64)        18496     \n",
            "_________________________________________________________________\n",
            "dropout_36 (Dropout)         (None, 12, 12, 64)        0         \n",
            "_________________________________________________________________\n",
            "conv2d_53 (Conv2D)           (None, 12, 12, 64)        36928     \n",
            "_________________________________________________________________\n",
            "max_pooling2d_46 (MaxPooling (None, 6, 6, 64)          0         \n",
            "_________________________________________________________________\n",
            "conv2d_54 (Conv2D)           (None, 6, 6, 128)         73856     \n",
            "_________________________________________________________________\n",
            "max_pooling2d_47 (MaxPooling (None, 3, 3, 128)         0         \n",
            "_________________________________________________________________\n",
            "dropout_37 (Dropout)         (None, 3, 3, 128)         0         \n",
            "_________________________________________________________________\n",
            "flatten_10 (Flatten)         (None, 1152)              0         \n",
            "_________________________________________________________________\n",
            "dense_25 (Dense)             (None, 128)               147584    \n",
            "_________________________________________________________________\n",
            "dropout_38 (Dropout)         (None, 128)               0         \n",
            "_________________________________________________________________\n",
            "dense_26 (Dense)             (None, 5)                 645       \n",
            "=================================================================\n",
            "Total params: 277,829\n",
            "Trainable params: 277,829\n",
            "Non-trainable params: 0\n",
            "_________________________________________________________________\n",
            "None\n"
          ],
          "name": "stdout"
        },
        {
          "output_type": "execute_result",
          "data": {
            "text/plain": [
              "'/device:GPU:0'"
            ]
          },
          "metadata": {
            "tags": []
          },
          "execution_count": 47
        }
      ]
    },
    {
      "metadata": {
        "id": "g4IbduuMsyMT",
        "colab_type": "code",
        "colab": {
          "base_uri": "https://localhost:8080/",
          "height": 391
        },
        "outputId": "418d2bf1-2198-45e2-ac0c-6ae63efaaf6f"
      },
      "cell_type": "code",
      "source": [
        "model.fit(x = x_train, y = y_train, validation_split=0.1, batch_size = 128, verbose=2, epochs=10)"
      ],
      "execution_count": 48,
      "outputs": [
        {
          "output_type": "stream",
          "text": [
            "Train on 469699 samples, validate on 52189 samples\n",
            "Epoch 1/10\n",
            " - 67s - loss: 0.1039 - acc: 0.9697 - val_loss: 0.0745 - val_acc: 0.9783\n",
            "Epoch 2/10\n",
            " - 65s - loss: 0.0757 - acc: 0.9783 - val_loss: 0.0701 - val_acc: 0.9793\n",
            "Epoch 3/10\n",
            " - 65s - loss: 0.0702 - acc: 0.9797 - val_loss: 0.0679 - val_acc: 0.9800\n",
            "Epoch 4/10\n",
            " - 65s - loss: 0.0670 - acc: 0.9804 - val_loss: 0.0663 - val_acc: 0.9806\n",
            "Epoch 5/10\n",
            " - 65s - loss: 0.0654 - acc: 0.9811 - val_loss: 0.0645 - val_acc: 0.9813\n",
            "Epoch 6/10\n",
            " - 65s - loss: 0.0637 - acc: 0.9814 - val_loss: 0.0656 - val_acc: 0.9808\n",
            "Epoch 7/10\n",
            " - 65s - loss: 0.0617 - acc: 0.9818 - val_loss: 0.0655 - val_acc: 0.9811\n",
            "Epoch 8/10\n",
            " - 65s - loss: 0.0609 - acc: 0.9822 - val_loss: 0.0646 - val_acc: 0.9807\n",
            "Epoch 9/10\n",
            " - 65s - loss: 0.0596 - acc: 0.9826 - val_loss: 0.0640 - val_acc: 0.9815\n",
            "Epoch 10/10\n",
            " - 65s - loss: 0.0584 - acc: 0.9829 - val_loss: 0.0696 - val_acc: 0.9805\n"
          ],
          "name": "stdout"
        },
        {
          "output_type": "execute_result",
          "data": {
            "text/plain": [
              "<tensorflow.python.keras.callbacks.History at 0x7f0f68befc50>"
            ]
          },
          "metadata": {
            "tags": []
          },
          "execution_count": 48
        }
      ]
    },
    {
      "metadata": {
        "id": "7kb6TFxutizt",
        "colab_type": "code",
        "colab": {
          "base_uri": "https://localhost:8080/",
          "height": 34
        },
        "outputId": "65878258-36b1-4cf1-c5bd-ac2bb3409303"
      },
      "cell_type": "code",
      "source": [
        "score = model.evaluate(x_test, y_test, verbose=0)\n",
        "print('Test accuarcy: {:0.2f}%'.format(score[1] * 100))\n"
      ],
      "execution_count": 49,
      "outputs": [
        {
          "output_type": "stream",
          "text": [
            "Test accuarcy: 98.06%\n"
          ],
          "name": "stdout"
        }
      ]
    },
    {
      "metadata": {
        "id": "--UCcr-_t_Az",
        "colab_type": "code",
        "colab": {
          "base_uri": "https://localhost:8080/",
          "height": 299
        },
        "outputId": "9b79b586-f539-4656-cb4f-3276ddb7e117"
      },
      "cell_type": "code",
      "source": [
        "import matplotlib.pyplot as plt\n",
        "from random import randint\n",
        "%matplotlib inline  \n",
        "idx = randint(0, len(x_test))\n",
        "img = x_test[idx]\n",
        "plt.imshow(img.squeeze()) \n",
        "pred = model.predict(np.expand_dims(img, axis=0))[0]\n",
        "print((-pred).argsort()[:6])\n",
        "ind = (-pred).argsort()[:6]\n",
        "latex = [class_names[x] for x in ind]\n",
        "print(latex)"
      ],
      "execution_count": 52,
      "outputs": [
        {
          "output_type": "stream",
          "text": [
            "[2 4 3 0 1]\n",
            "['line', 'square', 'circle', 'triangle', 'star']\n"
          ],
          "name": "stdout"
        },
        {
          "output_type": "display_data",
          "data": {
            "image/png": "[encoded data removed]",
            "text/plain": [
              "<matplotlib.figure.Figure at 0x7f0f69d89f28>"
            ]
          },
          "metadata": {
            "tags": []
          }
        }
      ]
    },
    {
      "metadata": {
        "id": "rSK595ovuF1N",
        "colab_type": "code",
        "colab": {
          "base_uri": "https://localhost:8080/",
          "height": 34
        },
        "outputId": "fb4cbb6e-2ac8-4b0f-c537-57d6053b228c"
      },
      "cell_type": "code",
      "source": [
        "import json\n",
        "\n",
        "with open('class_names.json', 'w') as file_handler:\n",
        "  class_name_dict = dict(enumerate(class_names))\n",
        "  print(class_name_dict)\n",
        "  file_handler.write(json.dumps(class_name_dict))\n",
        "#     for item in class_names:\n",
        "#         file_handler.write(\"{}\\n\".format(item))"
      ],
      "execution_count": 53,
      "outputs": [
        {
          "output_type": "stream",
          "text": [
            "{0: 'triangle', 1: 'star', 2: 'line', 3: 'circle', 4: 'square'}\n"
          ],
          "name": "stdout"
        }
      ]
    },
    {
      "metadata": {
        "id": "gw9yZV1luI3N",
        "colab_type": "code",
        "colab": {
          "base_uri": "https://localhost:8080/",
          "height": 357
        },
        "outputId": "5a0a342c-f001-49fe-9535-5c157fc75cd5"
      },
      "cell_type": "code",
      "source": [
        "!pip install tensorflowjs"
      ],
      "execution_count": 26,
      "outputs": [
        {
          "output_type": "stream",
          "text": [
            "Requirement already satisfied: tensorflowjs in /usr/local/lib/python3.6/dist-packages (0.5.6)\r\n",
            "Requirement already satisfied: h5py==2.8.0 in /usr/local/lib/python3.6/dist-packages (from tensorflowjs) (2.8.0)\r\n",
            "Requirement already satisfied: six==1.11.0 in /usr/local/lib/python3.6/dist-packages (from tensorflowjs) (1.11.0)\r\n",
            "Requirement already satisfied: keras==2.1.6 in /usr/local/lib/python3.6/dist-packages (from tensorflowjs) (2.1.6)\n",
            "Requirement already satisfied: tensorflow==1.9.0 in /usr/local/lib/python3.6/dist-packages (from tensorflowjs) (1.9.0)\n",
            "Requirement already satisfied: tensorflow-hub==0.1.0 in /usr/local/lib/python3.6/dist-packages (from tensorflowjs) (0.1.0)\n",
            "Requirement already satisfied: numpy==1.14.1 in /usr/local/lib/python3.6/dist-packages (from tensorflowjs) (1.14.1)\n",
            "Requirement already satisfied: pyyaml in /usr/local/lib/python3.6/dist-packages (from keras==2.1.6->tensorflowjs) (3.13)\n",
            "Requirement already satisfied: scipy>=0.14 in /usr/local/lib/python3.6/dist-packages (from keras==2.1.6->tensorflowjs) (0.19.1)\n",
            "Requirement already satisfied: astor>=0.6.0 in /usr/local/lib/python3.6/dist-packages (from tensorflow==1.9.0->tensorflowjs) (0.7.1)\n",
            "Requirement already satisfied: gast>=0.2.0 in /usr/local/lib/python3.6/dist-packages (from tensorflow==1.9.0->tensorflowjs) (0.2.0)\n",
            "Requirement already satisfied: grpcio>=1.8.6 in /usr/local/lib/python3.6/dist-packages (from tensorflow==1.9.0->tensorflowjs) (1.14.0)\n",
            "Requirement already satisfied: wheel>=0.26 in /usr/local/lib/python3.6/dist-packages (from tensorflow==1.9.0->tensorflowjs) (0.31.1)\n",
            "Requirement already satisfied: termcolor>=1.1.0 in /usr/local/lib/python3.6/dist-packages (from tensorflow==1.9.0->tensorflowjs) (1.1.0)\n",
            "Requirement already satisfied: absl-py>=0.1.6 in /usr/local/lib/python3.6/dist-packages (from tensorflow==1.9.0->tensorflowjs) (0.3.0)\n",
            "Requirement already satisfied: protobuf>=3.4.0 in /usr/local/lib/python3.6/dist-packages (from tensorflow==1.9.0->tensorflowjs) (3.6.0)\n",
            "Requirement already satisfied: tensorboard<1.10.0,>=1.9.0 in /usr/local/lib/python3.6/dist-packages (from tensorflow==1.9.0->tensorflowjs) (1.9.0)\n",
            "Requirement already satisfied: setuptools<=39.1.0 in /usr/local/lib/python3.6/dist-packages (from tensorflow==1.9.0->tensorflowjs) (39.1.0)\n",
            "Requirement already satisfied: werkzeug>=0.11.10 in /usr/local/lib/python3.6/dist-packages (from tensorboard<1.10.0,>=1.9.0->tensorflow==1.9.0->tensorflowjs) (0.14.1)\n",
            "Requirement already satisfied: markdown>=2.6.8 in /usr/local/lib/python3.6/dist-packages (from tensorboard<1.10.0,>=1.9.0->tensorflow==1.9.0->tensorflowjs) (2.6.11)\n"
          ],
          "name": "stdout"
        }
      ]
    },
    {
      "metadata": {
        "id": "JOXpoKo0uPpk",
        "colab_type": "code",
        "colab": {
          "base_uri": "https://localhost:8080/",
          "height": 204
        },
        "outputId": "f95ac23d-f304-41dd-9387-8a1accbe585e"
      },
      "cell_type": "code",
      "source": [
        "model.save('keras.h5')\n",
        "\n",
        "!rm -r model\n",
        "!mkdir model\n",
        "!tensorflowjs_converter --input_format keras keras.h5 model/\n",
        "\n",
        "!cp class_names.json model/class_names.json\n",
        "!cp keras.h5 model/keras.h5\n",
        "!zip -r model.zip model"
      ],
      "execution_count": 54,
      "outputs": [
        {
          "output_type": "stream",
          "text": [
            "Using TensorFlow backend.\n",
            "updating: model/ (stored 0%)\n",
            "updating: model/class_names.json (deflated 23%)\n",
            "updating: model/keras.h5 (deflated 9%)\n",
            "updating: model/group1-shard1of1 (deflated 4%)\n",
            "updating: model/group2-shard1of1 (deflated 7%)\n",
            "updating: model/group4-shard1of1 (deflated 7%)\n",
            "updating: model/model.json (deflated 86%)\n",
            "updating: model/group5-shard1of1 (deflated 7%)\n",
            "updating: model/group3-shard1of1 (deflated 7%)\n",
            "updating: model/group6-shard1of1 (deflated 6%)\n"
          ],
          "name": "stdout"
        }
      ]
    },
    {
      "metadata": {
        "id": "mPdH7932uoYh",
        "colab_type": "code",
        "colab": {}
      },
      "cell_type": "code",
      "source": [
        "from google.colab import files\n",
        "files.download('model.zip')"
      ],
      "execution_count": 0,
      "outputs": []
    }
  ]
}